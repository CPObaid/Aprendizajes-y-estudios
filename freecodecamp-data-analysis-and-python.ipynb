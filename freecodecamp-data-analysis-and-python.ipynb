{
  "nbformat": 4,
  "nbformat_minor": 0,
  "metadata": {
    "colab": {
      "provenance": [],
      "authorship_tag": "ABX9TyO5LhzciX/7mezgkMhAw73j",
      "include_colab_link": true
    },
    "kernelspec": {
      "name": "python3",
      "display_name": "Python 3"
    },
    "language_info": {
      "name": "python"
    }
  },
  "cells": [
    {
      "cell_type": "markdown",
      "metadata": {
        "id": "view-in-github",
        "colab_type": "text"
      },
      "source": [
        "<a href=\"https://colab.research.google.com/gist/CPObaid/8e90f38eff00f4e6b28ae766b1029926/freecodecamp-data-analysis-and-python.ipynb\" target=\"_parent\"><img src=\"https://colab.research.google.com/assets/colab-badge.svg\" alt=\"Open In Colab\"/></a>"
      ]
    },
    {
      "cell_type": "markdown",
      "source": [
        "Notas del curso digital con certificación\n",
        "\n",
        "Enlaces: \n",
        "* github demo https://github.com/googlecolab/colabtools/blob/master/notebooks/colab-github-demo.ipynb\n",
        "* intro to numpy https://github.com/ine-rmotr-curriculum/freecodecamp-intro-to-numpy\n"
      ],
      "metadata": {
        "id": "0q4KW82tWNMl"
      }
    },
    {
      "cell_type": "markdown",
      "source": [
        "Espacio de practicas"
      ],
      "metadata": {
        "id": "OYQb5zfDWpoe"
      }
    },
    {
      "cell_type": "code",
      "execution_count": null,
      "metadata": {
        "id": "iXQyKjGdVtAo"
      },
      "outputs": [],
      "source": []
    }
  ]
}